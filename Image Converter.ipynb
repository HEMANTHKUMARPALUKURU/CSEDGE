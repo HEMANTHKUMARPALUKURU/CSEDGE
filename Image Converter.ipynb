{
 "cells": [
  {
   "cell_type": "code",
   "execution_count": null,
   "id": "867c4bf5-f895-4bc8-9c45-36f8160bf5a8",
   "metadata": {},
   "outputs": [],
   "source": [
    "from PIL import Image\n",
    "import os\n",
    "\n",
    "def convert_image(input_path, output_path, output_format):\n",
    "    try:\n",
    "        # Open the image\n",
    "        with Image.open(input_path) as img:\n",
    "            # Convert and save the image to the desired format\n",
    "            img.save(output_path, format=output_format)\n",
    "            print(f\"Image converted successfully to {output_format} format.\")\n",
    "    except Exception as e:\n",
    "        print(f\"An error occurred: {e}\")\n",
    "\n",
    "def main():\n",
    "    input_path = input(\"Enter the path to the input image: \")\n",
    "    output_format = input(\"Enter the desired output format (e.g., JPEG, PNG, BMP, GIF): \").upper()\n",
    "\n",
    "    # Validate output format\n",
    "    if output_format not in ['JPEG', 'PNG', 'BMP', 'GIF']:\n",
    "        print(\"Invalid output format. Please choose from JPEG, PNG, BMP, or GIF.\")\n",
    "        return\n",
    "\n",
    "    # Extract the file name and extension\n",
    "    file_name, file_extension = os.path.splitext(input_path)\n",
    "\n",
    "    # If the input file already has an extension, remove it\n",
    "    file_name_without_ext = file_name.split('.')[0]\n",
    "\n",
    "    # Set the output path\n",
    "    output_path = f\"{file_name_without_ext}_converted.{output_format.lower()}\"\n",
    "    \n",
    "    # Convert the image\n",
    "    convert_image(input_path, output_path, output_format)\n",
    "\n",
    "if __name__ == \"__main__\":\n",
    "    main()"
   ]
  },
  {
   "cell_type": "code",
   "execution_count": null,
   "id": "8c8b0864-7fe4-42fc-af6b-daf07cf502ac",
   "metadata": {},
   "outputs": [],
   "source": []
  }
 ],
 "metadata": {
  "kernelspec": {
   "display_name": "Python 3 (ipykernel)",
   "language": "python",
   "name": "python3"
  },
  "language_info": {
   "codemirror_mode": {
    "name": "ipython",
    "version": 3
   },
   "file_extension": ".py",
   "mimetype": "text/x-python",
   "name": "python",
   "nbconvert_exporter": "python",
   "pygments_lexer": "ipython3",
   "version": "3.11.7"
  }
 },
 "nbformat": 4,
 "nbformat_minor": 5
}
